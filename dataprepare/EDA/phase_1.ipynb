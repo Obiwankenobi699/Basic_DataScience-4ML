{
 "cells": [
  {
   "metadata": {},
   "cell_type": "markdown",
   "source": [
    "Exploratory Data Analysis (EDA):\n",
    "\n",
    "EDA is the process of analyzing and understanding a dataset before modeling.\n",
    "It helps detect missing values, outliers, and patterns, and guides preprocessing, feature engineering, and model selection.\n",
    "\n",
    "Key steps:\n",
    "- Data Understanding: Check feature types and basic statistics.\n",
    "- Missing Values Analysis: Identify and handle NaNs.\n",
    "- Outlier Detection: Find extreme values using IQR or z-score.\n",
    "- Univariate & Multivariate Analysis: Study distributions and relationships.\n",
    "- Visualization: Use plots (histograms, boxplots, scatterplots, heatmaps) for insights.\n",
    "\n",
    "Purpose:\n",
    "Gain a clear understanding of the data and prepare it for machine learning.\n"
   ],
   "id": "86d1cadbd4426f16"
  },
  {
   "metadata": {},
   "cell_type": "code",
   "source": [
    "import pandas as pd\n",
    "\n",
    "df = pd.read_csv(r'C:\\Basic_Datascience_4ML\\assets\\data\\Countries.csv')"
   ],
   "id": "f0689aff7e85fe79",
   "outputs": [],
   "execution_count": null
  },
  {
   "metadata": {},
   "cell_type": "markdown",
   "source": "1.How big is the data",
   "id": "57a4e3ad5986e13b"
  },
  {
   "metadata": {},
   "cell_type": "code",
   "source": "df.shape",
   "id": "b8e5d66808eb2788",
   "outputs": [],
   "execution_count": null
  },
  {
   "metadata": {},
   "cell_type": "markdown",
   "source": "2. How does the data look like ?",
   "id": "bf6f43d460348041"
  },
  {
   "metadata": {},
   "cell_type": "code",
   "source": [
    "df.head()\n",
    "df.sample(5) # random data"
   ],
   "id": "9338d66d3ccb8f6b",
   "outputs": [],
   "execution_count": null
  },
  {
   "metadata": {},
   "cell_type": "markdown",
   "source": "3.What is the data type of col",
   "id": "bd0440f42916b687"
  },
  {
   "metadata": {},
   "cell_type": "code",
   "source": "df.info()",
   "id": "335e33b3645e9ef8",
   "outputs": [],
   "execution_count": null
  },
  {
   "metadata": {},
   "cell_type": "markdown",
   "source": "4.Are there any missing Values",
   "id": "cce2f933cac31257"
  },
  {
   "metadata": {},
   "cell_type": "code",
   "source": "df.isnull().sum()",
   "id": "1dd65b01ac5a92c5",
   "outputs": [],
   "execution_count": null
  },
  {
   "metadata": {},
   "cell_type": "markdown",
   "source": "5.How does the data look mathematically ?",
   "id": "c492c4a51abe897c"
  },
  {
   "metadata": {},
   "cell_type": "code",
   "source": "df.describe()",
   "id": "c9a722e2ed39f94a",
   "outputs": [],
   "execution_count": null
  },
  {
   "metadata": {},
   "cell_type": "markdown",
   "source": "6.Are there Duplicate Values ?",
   "id": "7413a6137b25c96c"
  },
  {
   "metadata": {},
   "cell_type": "code",
   "source": "df.duplicated().sum()",
   "id": "9484b3c5ce9001bd",
   "outputs": [],
   "execution_count": null
  },
  {
   "metadata": {},
   "cell_type": "markdown",
   "source": "7.Co-relation between col, it give pearson cofficiant function and -ve values means inverse relation and +ve means direct relation",
   "id": "b159989c6b656c3f"
  },
  {
   "metadata": {},
   "cell_type": "code",
   "source": "df.corr()",
   "id": "6044994d732157f3",
   "outputs": [],
   "execution_count": null
  }
 ],
 "metadata": {
  "kernelspec": {
   "display_name": "Python 3",
   "language": "python",
   "name": "python3"
  },
  "language_info": {
   "codemirror_mode": {
    "name": "ipython",
    "version": 2
   },
   "file_extension": ".py",
   "mimetype": "text/x-python",
   "name": "python",
   "nbconvert_exporter": "python",
   "pygments_lexer": "ipython2",
   "version": "2.7.6"
  }
 },
 "nbformat": 4,
 "nbformat_minor": 5
}
