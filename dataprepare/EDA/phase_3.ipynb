{
 "cells": [
  {
   "cell_type": "code",
   "id": "initial_id",
   "metadata": {
    "collapsed": true,
    "ExecuteTime": {
     "end_time": "2025-09-05T04:57:54.431129Z",
     "start_time": "2025-09-05T04:57:36.123108Z"
    }
   },
   "source": [
    "import pandas as pd\n",
    "import ydata_profiling\n",
    "from ydata_profiling import ProfileReport\n",
    "df = pd.read_csv(r\"C:\\Basic_Datascience_4ML\\assets\\data\\train.csv\")\n",
    "prof = ProfileReport(df)\n",
    "prof.to_file(\"report.html\")\n"
   ],
   "outputs": [
    {
     "name": "stderr",
     "output_type": "stream",
     "text": [
      "Summarize dataset:  29%|██▉       | 5/17 [00:00<00:00, 16.30it/s, Describe variable: Embarked]\n",
      "Summarize dataset:  47%|████▋     | 8/17 [00:00<00:00, 18.02it/s, Describe variable: Embarked]\n",
      "100%|██████████| 12/12 [00:00<00:00, 73.15it/s][A\n",
      "Summarize dataset: 100%|██████████| 47/47 [00:04<00:00,  9.41it/s, Completed]                       \n",
      "Generate report structure: 100%|██████████| 1/1 [00:07<00:00,  7.80s/it]\n",
      "Render HTML: 100%|██████████| 1/1 [00:02<00:00,  2.99s/it]\n",
      "Export report to file: 100%|██████████| 1/1 [00:00<00:00, 38.47it/s]\n"
     ]
    }
   ],
   "execution_count": 5
  }
 ],
 "metadata": {
  "kernelspec": {
   "display_name": "Python 3",
   "language": "python",
   "name": "python3"
  },
  "language_info": {
   "codemirror_mode": {
    "name": "ipython",
    "version": 2
   },
   "file_extension": ".py",
   "mimetype": "text/x-python",
   "name": "python",
   "nbconvert_exporter": "python",
   "pygments_lexer": "ipython2",
   "version": "2.7.6"
  }
 },
 "nbformat": 4,
 "nbformat_minor": 5
}
