{
 "cells": [
  {
   "metadata": {},
   "cell_type": "markdown",
   "source": [
    ":# 📊 Univariate Analysis\n",
    "\n",
    "**Definition:**\n",
    "Univariate analysis is the study of **a single variable** at a time to understand its **distribution, central tendency, and dispersion**.\n",
    "\n",
    "---\n",
    "\n",
    "## **🔹 Purpose**\n",
    "- Summarize and describe a variable.\n",
    "- Identify patterns, outliers, or anomalies.\n",
    "- Prepare data for further analysis (bivariate/multivariate).\n",
    "\n",
    "---\n",
    "\n",
    "## **🔹 Types of Variables**\n",
    "1. **Categorical (Qualitative)**\n",
    "   Examples: Gender, Color, Product Type\n",
    "\n",
    "2. **Numerical (Quantitative)**\n",
    "   - **Discrete:** Countable numbers (e.g., number of children)\n",
    "   - **Continuous:** Measurable numbers (e.g., height, weight)\n",
    "\n",
    "---\n",
    "\n",
    "## **🔹 Techniques**\n",
    "\n",
    "### **1️⃣ For Categorical Variables**\n",
    "- **Frequency Table:** Count of each category\n",
    "- **Visualization:**\n",
    "  - Bar Chart\n",
    "  - Pie Chart\n",
    "- **Measure:** Mode (most frequent category)\n",
    "\n",
    "### **2️⃣ For Numerical Variables**\n",
    "- **Summary Statistics:**\n",
    "  - Mean (Average)\n",
    "  - Median (Middle value)\n",
    "  - Mode (Most frequent value)\n",
    "  - Range (Max – Min)\n",
    "  - Variance & Standard Deviation\n",
    "  - Quartiles & Interquartile Range (IQR)\n",
    "\n",
    "- **Visualization:**\n",
    "  - Histogram\n",
    "  - Box Plot (detect outliers)\n",
    "  - Density Plot (KDE)\n",
    "\n",
    "---\n",
    "\n",
    "✅ **Key Point:**\n",
    "> Univariate analysis **focuses on a single variable** and **does not study relationships** between variables.\n"
   ],
   "id": "93e2de1f9c97bba6"
  },
  {
   "metadata": {},
   "cell_type": "code",
   "source": [
    "import pandas as pd\n",
    "import seaborn as sns\n",
    "df = pd.read_csv(r\"C:\\Basic_Datascience_4ML\\assets\\data\\train.csv\")"
   ],
   "id": "initial_id",
   "outputs": [],
   "execution_count": null
  },
  {
   "metadata": {},
   "cell_type": "code",
   "source": "df.head()",
   "id": "f609e868d0ac4a6d",
   "outputs": [],
   "execution_count": null
  },
  {
   "metadata": {},
   "cell_type": "markdown",
   "source": [
    "1. Catagorical Data\n",
    "\n",
    " a. Countplot\n",
    "\n",
    " We plot countplots to see how often each category occurs, detect imbalances, and quickly summarize categorical features for better decision-making in DS/ML."
   ],
   "id": "9a615af83669a119"
  },
  {
   "metadata": {},
   "cell_type": "code",
   "source": [
    "#sns.countplot(x='Survived', data=df, palette=\"Set2\")\n",
    "sns.countplot(x='Pclass', data=df, palette=\"Set3\")\n"
   ],
   "id": "3dbcc4b18a60064e",
   "outputs": [],
   "execution_count": null
  },
  {
   "metadata": {},
   "cell_type": "markdown",
   "source": "b.PieChart",
   "id": "9b6691d2fb5a62fa"
  },
  {
   "metadata": {},
   "cell_type": "code",
   "source": "df[\"Survived\"].value_counts().plot(kind=\"pie\", autopct='%1.1f%%')\n",
   "id": "af954f08d3569908",
   "outputs": [],
   "execution_count": null
  },
  {
   "metadata": {},
   "cell_type": "markdown",
   "source": [
    "2.Numerical Data\n",
    "\n",
    "a.Histogram\n",
    "\n",
    "histogram is best for numerical/continuous variables (like age, salary, temperature) to visualize their distribution."
   ],
   "id": "a6c6d6caea92d443"
  },
  {
   "metadata": {},
   "cell_type": "code",
   "source": "sns.histplot(df[\"Age\"])",
   "id": "b1c94b5ce9d2d33a",
   "outputs": [],
   "execution_count": null
  },
  {
   "metadata": {},
   "cell_type": "markdown",
   "source": [
    "b. Distplot\n",
    "Combines a histogram and an optional KDE (Kernel Density Estimate) curve in one plot.\n",
    "it also tells that there is presence of skewness or not\n",
    "Shows both the frequency counts and the probability density shape of the data."
   ],
   "id": "ea0587dc22fba801"
  },
  {
   "metadata": {},
   "cell_type": "code",
   "source": "sns.displot(df['Age'], kde=True, bins=20, color=\"skyblue\")",
   "id": "eb5367590a053338",
   "outputs": [],
   "execution_count": null
  },
  {
   "metadata": {},
   "cell_type": "markdown",
   "source": [
    "c.Boxplot\n",
    "tells how many data is noicy amd outliers"
   ],
   "id": "d1151284a1cbf4bd"
  },
  {
   "metadata": {},
   "cell_type": "code",
   "source": [
    "sns.boxplot(x=\"Age\", data=df)\n",
    "# black dots are outliers left- | is min , right- | is max blue is Most"
   ],
   "id": "4eaad813626be2ce",
   "outputs": [],
   "execution_count": null
  }
 ],
 "metadata": {
  "kernelspec": {
   "display_name": "Python 3",
   "language": "python",
   "name": "python3"
  },
  "language_info": {
   "codemirror_mode": {
    "name": "ipython",
    "version": 2
   },
   "file_extension": ".py",
   "mimetype": "text/x-python",
   "name": "python",
   "nbconvert_exporter": "python",
   "pygments_lexer": "ipython2",
   "version": "2.7.6"
  }
 },
 "nbformat": 4,
 "nbformat_minor": 5
}
