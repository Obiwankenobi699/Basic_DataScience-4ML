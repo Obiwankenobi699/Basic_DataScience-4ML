{
 "cells": [
  {
   "metadata": {},
   "cell_type": "markdown",
   "source": "Pandas",
   "id": "97f021a913c6e2d2"
  },
  {
   "metadata": {},
   "cell_type": "code",
   "source": [
    "import pandas as pd\n",
    "import numpy as np"
   ],
   "id": "3dc129ec7a594a31",
   "outputs": [],
   "execution_count": null
  },
  {
   "metadata": {},
   "cell_type": "markdown",
   "source": [
    "Panda Series\n",
    "\n",
    "# Pandas Series – Quick Reference\n",
    "\n",
    "| Feature / Concept        | Description                                                                 | Example Code |\n",
    "|---------------------------|-----------------------------------------------------------------------------|--------------|\n",
    "| Definition               | One-dimensional labeled array in Pandas.                                    | `pd.Series([1,2,3])` |\n",
    "| Data Types               | Can hold int, float, string, objects.                                       | `pd.Series([10, 3.14, \"hello\"])` |\n",
    "| Index                    | Labels assigned to elements (default: 0…n-1).                               | `pd.Series([1,2,3], index=[\"a\",\"b\",\"c\"])` |\n",
    "\n"
   ],
   "id": "a9143f4c861c2df4"
  },
  {
   "metadata": {},
   "cell_type": "code",
   "source": [
    "# 1. Create Series with default labels (0,1,2,...)\n",
    "s1 = pd.Series([100, 200, 300])\n",
    "print(\"Series with default labels:\\n\", s1)\n",
    "\n",
    "# 2. Create Series with custom labels\n",
    "s2 = pd.Series([10, 20, 30], index=[\"a\", \"b\", \"c\"])\n",
    "print(\"\\nSeries with custom labels:\\n\", s2)\n",
    "\n",
    "dict = {\"Mukul\":0,\"Surbhi\":1}\n",
    "dict_series = pd.Series(dict)\n",
    "print(\"\\nSeries with custom labels:\\n\", dict_series)"
   ],
   "id": "46a40e97a5637352",
   "outputs": [],
   "execution_count": null
  },
  {
   "metadata": {},
   "cell_type": "markdown",
   "source": [
    "Data Frame\n",
    "\n",
    "| Feature / Concept        | Description                                                                 | Example Code |\n",
    "|---------------------------|-----------------------------------------------------------------------------|--------------|\n",
    "| Definition               | 2D labeled data structure with rows & columns (like a table).               | `pd.DataFrame(...)` |\n",
    "| Data Types               | Each column can have different data types.                                  | Numbers, strings, objects |\n",
    "| From Dict of Lists       | Create DataFrame from dictionary where keys = column names.                 | `pd.DataFrame({\"A\":[1,2], \"B\":[3,4]})` |\n",
    "| From List of Dicts       | Each dict is a row.                                                         | `pd.DataFrame([{\"A\":1,\"B\":2},{\"A\":3,\"B\":4}])` |\n",
    "| From 2D List / Array     | Rows and columns can be created from list of lists or numpy array.           | `pd.DataFrame([[1,2],[3,4]], columns=[\"A\",\"B\"])` |\n",
    "| Index (Row Labels)       | Default is 0…n-1 but can set custom row labels.                             | `pd.DataFrame(..., index=[\"row1\",\"row2\"])` |\n",
    "| Column Labels            | Default from dictionary keys or provided manually.                          | `columns=[\"A\",\"B\"]` |"
   ],
   "id": "297ae794d7472c5c"
  },
  {
   "metadata": {},
   "cell_type": "code",
   "source": [
    "# 1. Create DataFrame from dictionary of lists\n",
    "df1 = pd.DataFrame({\n",
    "    \"Name\": [\"Alice\", \"Bob\", \"Charlie\"],\n",
    "    \"Age\": [25, 30, 35],\n",
    "    \"City\": [\"NY\", \"LA\", \"Chicago\"]\n",
    "})\n",
    "print(\"DataFrame from dictionary of lists:\\n\", df1)\n",
    "\n",
    "# 2. Create DataFrame from list of dictionaries\n",
    "df2 = pd.DataFrame([\n",
    "    {\"A\": 1, \"B\": 2},\n",
    "    {\"A\": 3, \"B\": 4}\n",
    "])\n",
    "print(\"\\nDataFrame from list of dictionaries:\\n\", df2)\n",
    "\n",
    "# 3. Create DataFrame from 2D list\n",
    "df3 = pd.DataFrame([[10,20],[30,40]], columns=[\"Col1\",\"Col2\"], index=[\"row1\",\"row2\"])\n",
    "print(\"\\nDataFrame from 2D list with custom index:\\n\", df3)\n",
    "\n",
    "arr = np.array([(1,2),(3,4)], dtype=[(\"A\",\"i4\"),(\"B\",\"i4\")])\n",
    "df5 = pd.DataFrame(arr)\n",
    "print(\"\\nFrom numpy structured array:\\n\", df5)"
   ],
   "id": "cfe9f2661bea1650",
   "outputs": [],
   "execution_count": null
  },
  {
   "metadata": {},
   "cell_type": "markdown",
   "source": [
    "Operation in Data Frame\n",
    "\n",
    "| Operation                  | Description                                                                 | Example Code |\n",
    "|-----------------------------|-----------------------------------------------------------------------------|--------------|\n",
    "| Select Single Column       | Access like dictionary or attribute.                                        | `df[\"A\"]` |\n",
    "| Select Multiple Columns    | Pass a list of column names.                                                | `df[[\"A\",\"B\"]]` |\n",
    "| Add New Column             | Assign a list/Series/operation result.                                      | `df[\"E\"] = [10,20,30]` |\n",
    "| Remove Column (drop)       | Remove by specifying `axis=1`.                                              | `df.drop(\"A\", axis=1)` |\n",
    "| Drop with inplace          | If `inplace=True`, changes original df (no new copy).                       | `df.drop(\"A\", axis=1, inplace=True)` |\n",
    "| Axis Meaning               | `axis=0` → rows, `axis=1` → columns.                                        | `df.drop(0, axis=0)` |\n",
    "| Select Row (loc)           | Select row(s) by label.                                                     | `df.loc[0]` |\n",
    "| Select Row (iloc)          | Select row(s) by position.                                                  | `df.iloc[1]` |\n",
    "| Select Specific Element    | Access using row & column.                                                  | `df.loc[1,\"A\"]`, `df.iloc[1,0]` |\n",
    "| Conditional Selection      | Apply condition to filter rows.                                             | `df[df[\"A\"] > 5]` |\n"
   ],
   "id": "e60f310ef9f38b14"
  },
  {
   "metadata": {
    "ExecuteTime": {
     "end_time": "2025-08-22T16:37:56.368438Z",
     "start_time": "2025-08-22T16:37:55.980891Z"
    }
   },
   "cell_type": "code",
   "source": [
    "\n",
    "# Sample DataFrame\n",
    "data = {\n",
    "    \"A\": [1, 2, 3],\n",
    "    \"B\": [4, 5, 6],\n",
    "    \"C\": [7, 8, 9],\n",
    "    \"D\": [10, 11, 12]\n",
    "}\n",
    "df = pd.DataFrame(data)\n",
    "print(\"Original DataFrame:\\n\", df)\n",
    "\n",
    "# 1. Select single column\n",
    "print(\"\\nSelect single column A:\\n\", df[\"A\"])\n",
    "\n",
    "# 2. Select multiple columns\n",
    "print(\"\\nSelect multiple columns A and C:\\n\", df[[\"A\", \"C\"]])\n",
    "\n",
    "# 3. Add a new column\n",
    "df[\"E\"] = [100, 200, 300]\n",
    "print(\"\\nAfter adding new column E:\\n\", df)\n",
    "\n",
    "# 4. Remove a column (returns new DataFrame, does not change original)\n",
    "df_dropped = df.drop(\"E\", axis=1)\n",
    "print(\"\\nDataFrame after dropping column E (not inplace):\\n\", df_dropped)\n",
    "\n",
    "# 5. Drop with inplace (modifies original)\n",
    "df.drop(\"E\", axis=1, inplace=True)\n",
    "print(\"\\nAfter dropping column E (inplace=True):\\n\", df)\n",
    "\n",
    "# 6. Axis explanation\n",
    "# axis=0 -> row operation\n",
    "df_row_dropped = df.drop(0, axis=0)  # drop row with index 0\n",
    "print(\"\\nAfter dropping row 0 (axis=0):\\n\", df_row_dropped)\n",
    "\n",
    "# axis=1 -> column operation\n",
    "df_col_dropped = df.drop(\"A\", axis=1)  # drop column A\n",
    "print(\"\\nAfter dropping column A (axis=1):\\n\", df_col_dropped)\n",
    "\n",
    "# 7. Select row\n",
    "print(\"\\nSelect row at index 1 using loc:\\n\", df.loc[1])\n",
    "print(\"Select row at position 2 using iloc:\\n\", df.iloc[2])\n",
    "\n",
    "# 8. Select specific element\n",
    "print(\"\\nElement at row 1, column B using loc:\", df.loc[1, \"B\"])\n",
    "print(\"Element at row 1, column 1 using iloc:\", df.iloc[1, 1])\n",
    "\n",
    "# 9. Conditional selection\n",
    "print(\"\\nRows where column B > 4:\\n\", df[df[\"B\"] > 4])"
   ],
   "id": "bedb1a8968fd3968",
   "outputs": [
    {
     "ename": "NameError",
     "evalue": "name 'pd' is not defined",
     "output_type": "error",
     "traceback": [
      "\u001B[31m---------------------------------------------------------------------------\u001B[39m",
      "\u001B[31mNameError\u001B[39m                                 Traceback (most recent call last)",
      "\u001B[36mCell\u001B[39m\u001B[36m \u001B[39m\u001B[32mIn[1]\u001B[39m\u001B[32m, line 8\u001B[39m\n\u001B[32m      1\u001B[39m \u001B[38;5;66;03m# Sample DataFrame\u001B[39;00m\n\u001B[32m      2\u001B[39m data = {\n\u001B[32m      3\u001B[39m     \u001B[33m\"\u001B[39m\u001B[33mA\u001B[39m\u001B[33m\"\u001B[39m: [\u001B[32m1\u001B[39m, \u001B[32m2\u001B[39m, \u001B[32m3\u001B[39m],\n\u001B[32m      4\u001B[39m     \u001B[33m\"\u001B[39m\u001B[33mB\u001B[39m\u001B[33m\"\u001B[39m: [\u001B[32m4\u001B[39m, \u001B[32m5\u001B[39m, \u001B[32m6\u001B[39m],\n\u001B[32m      5\u001B[39m     \u001B[33m\"\u001B[39m\u001B[33mC\u001B[39m\u001B[33m\"\u001B[39m: [\u001B[32m7\u001B[39m, \u001B[32m8\u001B[39m, \u001B[32m9\u001B[39m],\n\u001B[32m      6\u001B[39m     \u001B[33m\"\u001B[39m\u001B[33mD\u001B[39m\u001B[33m\"\u001B[39m: [\u001B[32m10\u001B[39m, \u001B[32m11\u001B[39m, \u001B[32m12\u001B[39m]\n\u001B[32m      7\u001B[39m }\n\u001B[32m----> \u001B[39m\u001B[32m8\u001B[39m df = \u001B[43mpd\u001B[49m.DataFrame(data)\n\u001B[32m      9\u001B[39m \u001B[38;5;28mprint\u001B[39m(\u001B[33m\"\u001B[39m\u001B[33mOriginal DataFrame:\u001B[39m\u001B[38;5;130;01m\\n\u001B[39;00m\u001B[33m\"\u001B[39m, df)\n\u001B[32m     11\u001B[39m \u001B[38;5;66;03m# 1. Select single column\u001B[39;00m\n",
      "\u001B[31mNameError\u001B[39m: name 'pd' is not defined"
     ]
    }
   ],
   "execution_count": 1
  }
 ],
 "metadata": {
  "kernelspec": {
   "display_name": "Python 3",
   "language": "python",
   "name": "python3"
  },
  "language_info": {
   "codemirror_mode": {
    "name": "ipython",
    "version": 2
   },
   "file_extension": ".py",
   "mimetype": "text/x-python",
   "name": "python",
   "nbconvert_exporter": "python",
   "pygments_lexer": "ipython2",
   "version": "2.7.6"
  }
 },
 "nbformat": 4,
 "nbformat_minor": 5
}
