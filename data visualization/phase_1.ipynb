{
 "cells": [
  {
   "metadata": {},
   "cell_type": "markdown",
   "source": "Matplotlib",
   "id": "b8b520d1f1693d8a"
  },
  {
   "metadata": {},
   "cell_type": "code",
   "source": [
    "import numpy as np\n",
    "import pandas as pd\n",
    "import matplotlib.pyplot as plt"
   ],
   "id": "initial_id",
   "outputs": [],
   "execution_count": null
  },
  {
   "metadata": {},
   "cell_type": "code",
   "source": [
    "df = pd.read_csv(r'C:\\Basic_Datascience_4ML\\assets\\data\\train.csv')\n",
    "df.head()"
   ],
   "id": "f0f577a80369bf3e",
   "outputs": [],
   "execution_count": null
  },
  {
   "metadata": {},
   "cell_type": "markdown",
   "source": [
    "| Function       | Description                                                                 | Example                                    |\n",
    "|----------------|-----------------------------------------------------------------------------|--------------------------------------------|\n",
    "| `plt.xlabel()` | Sets the label (name) of the **X-axis**. Helps describe what X-values mean. | `plt.xlabel(\"Age (years)\")`                |\n",
    "| `plt.ylabel()` | Sets the label (name) of the **Y-axis**. Helps describe what Y-values mean. | `plt.ylabel(\"Survival (0 = No, 1 = Yes)\")` |\n",
    "| `plt.title()`  | Sets the **title** of the plot, shown at the top of the graph.              | `plt.title(\"Age vs Survival\")`             |\n",
    "| `plt.plot()`   | Used to draw a line/curve or connect points between X and Y values. By default, it creates a line plot. | `plt.plot(df[\"Age\"], df[\"Survived\"], \"o-\")` |\n"
   ],
   "id": "e25efe2bb9dd22a4"
  },
  {
   "metadata": {},
   "cell_type": "code",
   "source": [
    "plt.plot(df['Sex'], df['Survived'])\n",
    "#plt.scatter(df['Age'], df['Age'])\n",
    "plt.title('Analysis')\n",
    "plt.xlabel('Sex')\n",
    "plt.ylabel('Survived')"
   ],
   "id": "f1dac48d7274f23c",
   "outputs": [],
   "execution_count": null
  },
  {
   "metadata": {},
   "cell_type": "markdown",
   "source": [
    "Sub plot\n",
    "--------\n",
    "\n",
    "```\n",
    "+-----------------------------+\n",
    "|           Canvas            |\n",
    "|                             |\n",
    "|  +---------+  +---------+   |\n",
    "|  | Subplot |  | Subplot |   |\n",
    "|  |  (1)    |  |  (2)    |   |\n",
    "|  +---------+  +---------+   |\n",
    "|                             |\n",
    "|  +---------+  +---------+   |\n",
    "|  | Subplot |  | Subplot |   |\n",
    "|  |  (3)    |  |  (4)    |   |\n",
    "|  +---------+  +---------+   |\n",
    "|                             |\n",
    "+-----------------------------+\n",
    "```\n",
    "This is 2*2 Canvas and each having a cell and subplot, plt.subplot(2, 2, *)\n"
   ],
   "id": "46c84335573dc1a8"
  },
  {
   "metadata": {},
   "cell_type": "code",
   "source": [
    "plt.figure(figsize=(8,6))\n",
    "\n",
    "# Subplot 1\n",
    "plt.subplot(2,2,1)\n",
    "plt.plot([1,2,3],[1,4,9])\n",
    "plt.title(\"Plot 1\")\n",
    "\n",
    "# Subplot 2\n",
    "plt.subplot(2,2,2)\n",
    "plt.plot([1,2,3],[1,2,3])\n",
    "plt.title(\"Plot 2\")\n",
    "\n",
    "# Subplot 3\n",
    "plt.subplot(2,2,3)\n",
    "plt.plot([1,2,3],[3,2,1])\n",
    "plt.title(\"Plot 3\")\n",
    "\n",
    "# Subplot 4\n",
    "plt.subplot(2,2,4)\n",
    "plt.plot([1,2,3],[9,4,1])\n",
    "plt.title(\"Plot 4\")\n",
    "\n",
    "plt.tight_layout()\n",
    "plt.show()"
   ],
   "id": "a645dce436d83e2b",
   "outputs": [],
   "execution_count": null
  },
  {
   "metadata": {},
   "cell_type": "markdown",
   "source": [
    "Stateful (pyplot way)\n",
    "----------------------\n",
    "plt.figure()   →  Canvas\n",
    "plt.plot()     →  Adds to current Axes\n",
    "\n",
    "Object-Oriented way\n",
    "----------------------\n",
    "fig, ax = plt.subplots()\n",
    "```\n",
    "+---------------------------+\n",
    "|          Figure           |   ← fig (the canvas)\n",
    "|  +---------------------+  |\n",
    "|  |        Axes         |  |   ← ax (the plot area)\n",
    "|  | (methods: plot,     |  |\n",
    "|  |  set_title, etc.)   |  |\n",
    "|  +---------------------+  |\n",
    "+---------------------------+\n",
    "```"
   ],
   "id": "89cdfffa9377f370"
  },
  {
   "metadata": {},
   "cell_type": "code",
   "source": [
    "# Create a Figure (canvas)\n",
    "fig = plt.figure(figsize=(8,6))\n",
    "\n",
    "# 1st graph (Top-left)\n",
    "ax1 = fig.add_axes([0.05, 0.55, 0.4, 0.4])   # [left, bottom, width, height]\n",
    "ax1.plot([1,2,3],[1,4,9])\n",
    "ax1.set_title(\"Graph 1\")\n",
    "\n",
    "# 2nd graph (Top-right)\n",
    "ax2 = fig.add_axes([0.55, 0.55, 0.4, 0.4])\n",
    "ax2.plot([1,2,3],[1,2,3])\n",
    "ax2.set_title(\"Graph 2\")\n",
    "\n",
    "# 3rd graph (Bottom-left)\n",
    "ax3 = fig.add_axes([0.05, 0.05, 0.4, 0.4])\n",
    "ax3.plot([1,2,3],[3,2,1])\n",
    "ax3.set_title(\"Graph 3\")\n",
    "\n",
    "# 4th graph (Bottom-right)\n",
    "ax4 = fig.add_axes([0.55, 0.05, 0.4, 0.4])\n",
    "ax4.plot([1,2,3],[9,4,1])\n",
    "ax4.set_title(\"Graph 4\")\n",
    "\n",
    "plt.show()"
   ],
   "id": "c42072b39dde1f9c",
   "outputs": [],
   "execution_count": null
  },
  {
   "metadata": {},
   "cell_type": "markdown",
   "source": [
    "| Feature       | Function / Argument                        | Example                                | Description                                                                 |\n",
    "|---------------|---------------------------------------------|----------------------------------------|-----------------------------------------------------------------------------|\n",
    "| **Figure**    | `plt.figure(figsize, dpi)`                  | `plt.figure(figsize=(8,6), dpi=120)`   | Creates the canvas. `figsize` = size in inches, `dpi` = resolution.        |\n",
    "| **Line Color**| `color`                                    | `color=\"blue\"`                         | Changes line color.                                                         |\n",
    "| **Line Style**| `linestyle`                                | `linestyle=\"--\"`                       | `'-'` solid, `'--'` dashed, `':'` dotted, `'-.'` dash-dot.                 |\n",
    "| **Markers**   | `marker`                                   | `marker=\"o\"`                           | Adds symbols on data points. (e.g., `o`, `s`, `*`, `^`).                   |\n",
    "| **Labels**    | `plt.xlabel()`, `plt.ylabel()`             | `plt.xlabel(\"X-axis\")`                 | Names the X and Y axes.                                                     |\n",
    "| **Title**     | `plt.title()`                              | `plt.title(\"My Graph\")`                | Adds a title to the graph.                                                  |\n",
    "| **Legend**    | `plt.legend()`                             | `plt.legend()`                         | Shows labels for different lines/plots.                                     |\n",
    "| **Grid**      | `plt.grid()`                               | `plt.grid(True, linestyle=\":\", alpha=0.7)` | Adds grid lines to the graph. `alpha` controls transparency.                |\n",
    "| **Line Plot** | `plt.plot(x, y, ...)`                      | `plt.plot([1,2,3],[1,4,9])`            | Draws the graph. Can include style args like color, linestyle, marker.      |\n",
    "| **Show**      | `plt.show()`                               | `plt.show()`                           | Displays the figure on the screen.                                          |\n"
   ],
   "id": "8867dc839cadc7b0"
  },
  {
   "metadata": {},
   "cell_type": "code",
   "source": [
    "# Create a figure (canvas)\n",
    "plt.figure(figsize=(8,6), dpi=120)\n",
    "\n",
    "# Plot with design elements\n",
    "plt.plot(\n",
    "    [1,2,3,4,5], [1,4,9,16,25],\n",
    "    color=\"blue\",        # line color\n",
    "    linestyle=\"--\",      # dashed line\n",
    "    marker=\"o\",          # circle markers\n",
    "    label=\"y = x^2\"      # label for legend\n",
    ")\n",
    "\n",
    "# Add labels and title\n",
    "plt.xlabel(\"X-axis: Numbers\")\n",
    "plt.ylabel(\"Y-axis: Squares\")\n",
    "plt.title(\"Matplotlib Graph Designing Example\")\n",
    "\n",
    "# Add grid\n",
    "plt.grid(True, linestyle=\":\", alpha=0.7)\n",
    "\n",
    "# Show legend\n",
    "plt.legend()\n",
    "\n",
    "# Show final graph\n",
    "plt.show()"
   ],
   "id": "9370fc8c6da22e21",
   "outputs": [],
   "execution_count": null
  }
 ],
 "metadata": {
  "kernelspec": {
   "display_name": "Python 3",
   "language": "python",
   "name": "python3"
  },
  "language_info": {
   "codemirror_mode": {
    "name": "ipython",
    "version": 2
   },
   "file_extension": ".py",
   "mimetype": "text/x-python",
   "name": "python",
   "nbconvert_exporter": "python",
   "pygments_lexer": "ipython2",
   "version": "2.7.6"
  }
 },
 "nbformat": 4,
 "nbformat_minor": 5
}
